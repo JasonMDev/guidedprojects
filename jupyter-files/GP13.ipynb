{
 "cells": [
  {
   "cell_type": "markdown",
   "metadata": {},
   "source": [
    "# GP13: Predicting the stock market"
   ]
  },
  {
   "cell_type": "markdown",
   "metadata": {},
   "source": [
    "## 1: The Dataset & Reading In The Data"
   ]
  },
  {
   "cell_type": "code",
   "execution_count": null,
   "metadata": {
    "collapsed": true
   },
   "outputs": [],
   "source": [
    "# df[\"Date\"] > datetime(year=2015, month=4, day=1)\n",
    "import pandas as pd\n",
    "from datetime import datetime\n",
    "\n",
    "sphist = pd.read_csv(\"../data/GP13/sphist.csv\")\n",
    "\n",
    "print(sphist[\"Date\"].head(3))\n",
    "print(sphist[\"Date\"].dtype)\n",
    "\n",
    "sphist[\"Date\"] = pd.to_datetime(sphist[\"Date\"])\n",
    "print(sphist[\"Date\"].dtype)\n",
    "\n",
    "sphist.sort_values(\"Date\", axis=0, ascending=True, inplace=True)\n",
    "\n",
    "print(sphist[\"Date\"].head(3))\n",
    "print(sphist.head(3))"
   ]
  },
  {
   "cell_type": "markdown",
   "metadata": {},
   "source": [
    "## 2: Generating Indicators"
   ]
  },
  {
   "cell_type": "code",
   "execution_count": null,
   "metadata": {
    "collapsed": true
   },
   "outputs": [],
   "source": [
    "shifted_close = sphist[\"Close\"].shift(periods=1, freq=None, axis=0)\n",
    "#sphist[\"day_5\"] = pd.rolling_mean(shifted_close, 5)\n",
    "#sphist[\"day_30\"] = pd.rolling_mean(shifted_close, 30)\n",
    "#sphist[\"day_365\"] = pd.rolling_mean(shifted_close, 365)\n",
    "sphist[\"day_5\"] = shifted_close.rolling(center=False,window=5).mean()\n",
    "sphist[\"day_30\"] = shifted_close.rolling(center=False,window=30).mean()\n",
    "sphist[\"day_365\"] = shifted_close.rolling(center=False,window=365).mean()\n",
    "\n",
    "sphist[\"std_5\"] = shifted_close.rolling(center=False,window=5).std()\n",
    "sphist[\"std_365\"] = shifted_close.rolling(center=False,window=365).std()\n",
    "\n",
    "sphist[\"rday_5_365\"] = sphist[\"day_5\"] / sphist[\"day_365\"]\n",
    "sphist[\"rstd_5_365\"] = sphist[\"std_5\"] / sphist[\"std_365\"]"
   ]
  },
  {
   "cell_type": "markdown",
   "metadata": {},
   "source": [
    "## 3: Splitting Up The Data"
   ]
  },
  {
   "cell_type": "code",
   "execution_count": null,
   "metadata": {
    "collapsed": true
   },
   "outputs": [],
   "source": [
    "cols = [\"Date\", \"Close\", \"day_5\",\"day_30\",\"day_365\",\"std_5\",\"std_365\",\"rday_5_365\",\"rstd_5_365\"]\n",
    "ABT = sphist[cols]\n",
    "ABT = ABT[ABT[\"Date\"] > datetime(year=1951, month=1, day=2)]\n",
    "ABT = ABT.dropna(axis=0)\n",
    "print(ABT[ABT[\"Date\"] > datetime(year=1951, month=1, day=2)].head())\n",
    "\n",
    "train = ABT[ABT[\"Date\"] < datetime(year=2013, month=1, day=1)]\n",
    "test = ABT[ABT[\"Date\"] >= datetime(year=2013, month=1, day=1)]\n",
    "\n",
    "print(train.tail())\n",
    "print(test.head())"
   ]
  },
  {
   "cell_type": "markdown",
   "metadata": {},
   "source": [
    "## 5: Making Predictions"
   ]
  },
  {
   "cell_type": "code",
   "execution_count": null,
   "metadata": {
    "collapsed": true
   },
   "outputs": [],
   "source": [
    "\n",
    "\n",
    "import sklearn\n",
    "from sklearn.linear_model import LinearRegression\n",
    "from sklearn.metrics import mean_squared_error\n",
    "\n",
    "features = [\"day_5\",\"day_30\",\"day_365\",\"std_5\",\"std_365\",\"rday_5_365\",\"rstd_5_365\"]\n",
    "target = [\"Close\"]\n",
    "\n",
    "lr = LinearRegression()\n",
    "lr.fit(train[features], train[target])\n",
    "predictions = lr.predict(test[features])\n",
    "print(predictions[0:5])\n",
    "print(test[target][0:5])\n",
    "\n",
    "mse = mean_squared_error(test[\"Close\"], predictions)\n",
    "rmse = mse ** (1/2)\n",
    "print(mse)\n",
    "print(rmse)"
   ]
  }
 ],
 "metadata": {
  "kernelspec": {
   "display_name": "Python [conda root]",
   "language": "python",
   "name": "conda-root-py"
  },
  "language_info": {
   "codemirror_mode": {
    "name": "ipython",
    "version": 3
   },
   "file_extension": ".py",
   "mimetype": "text/x-python",
   "name": "python",
   "nbconvert_exporter": "python",
   "pygments_lexer": "ipython3",
   "version": "3.5.3"
  }
 },
 "nbformat": 4,
 "nbformat_minor": 2
}
