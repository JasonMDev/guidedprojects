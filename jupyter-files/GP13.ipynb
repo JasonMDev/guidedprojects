{
 "cells": [
  {
   "cell_type": "markdown",
   "metadata": {},
   "source": [
    "# GP13: Predicting the stock market"
   ]
  },
  {
   "cell_type": "markdown",
   "metadata": {},
   "source": [
    "## 1: The Dataset & Reading In The Data"
   ]
  },
  {
   "cell_type": "code",
   "execution_count": 1,
   "metadata": {},
   "outputs": [
    {
     "name": "stdout",
     "output_type": "stream",
     "text": [
      "0    2015-12-07\n",
      "1    2015-12-04\n",
      "2    2015-12-03\n",
      "Name: Date, dtype: object\n",
      "object\n",
      "datetime64[ns]\n",
      "16589   1950-01-03\n",
      "16588   1950-01-04\n",
      "16587   1950-01-05\n",
      "Name: Date, dtype: datetime64[ns]\n",
      "            Date   Open   High    Low  Close     Volume  Adj Close\n",
      "16589 1950-01-03  16.66  16.66  16.66  16.66  1260000.0      16.66\n",
      "16588 1950-01-04  16.85  16.85  16.85  16.85  1890000.0      16.85\n",
      "16587 1950-01-05  16.93  16.93  16.93  16.93  2550000.0      16.93\n"
     ]
    }
   ],
   "source": [
    "# df[\"Date\"] > datetime(year=2015, month=4, day=1)\n",
    "import pandas as pd\n",
    "from datetime import datetime\n",
    "\n",
    "sphist = pd.read_csv(\"../data/GP13/sphist.csv\")\n",
    "\n",
    "print(sphist[\"Date\"].head(3))\n",
    "print(sphist[\"Date\"].dtype)\n",
    "\n",
    "sphist[\"Date\"] = pd.to_datetime(sphist[\"Date\"])\n",
    "print(sphist[\"Date\"].dtype)\n",
    "\n",
    "sphist.sort_values(\"Date\", axis=0, ascending=True, inplace=True)\n",
    "\n",
    "print(sphist[\"Date\"].head(3))\n",
    "print(sphist.head(3))"
   ]
  },
  {
   "cell_type": "markdown",
   "metadata": {},
   "source": [
    "## 2: Generating Indicators"
   ]
  },
  {
   "cell_type": "code",
   "execution_count": 2,
   "metadata": {
    "collapsed": true
   },
   "outputs": [],
   "source": [
    "shifted_close = sphist[\"Close\"].shift(periods=1, freq=None, axis=0)\n",
    "#sphist[\"day_5\"] = pd.rolling_mean(shifted_close, 5)\n",
    "#sphist[\"day_30\"] = pd.rolling_mean(shifted_close, 30)\n",
    "#sphist[\"day_365\"] = pd.rolling_mean(shifted_close, 365)\n",
    "sphist[\"day_5\"] = shifted_close.rolling(center=False,window=5).mean()\n",
    "sphist[\"day_30\"] = shifted_close.rolling(center=False,window=30).mean()\n",
    "sphist[\"day_365\"] = shifted_close.rolling(center=False,window=365).mean()\n",
    "\n",
    "sphist[\"std_5\"] = shifted_close.rolling(center=False,window=5).std()\n",
    "sphist[\"std_365\"] = shifted_close.rolling(center=False,window=365).std()\n",
    "\n",
    "sphist[\"rday_5_365\"] = sphist[\"day_5\"] / sphist[\"day_365\"]\n",
    "sphist[\"rstd_5_365\"] = sphist[\"std_5\"] / sphist[\"std_365\"]"
   ]
  },
  {
   "cell_type": "markdown",
   "metadata": {},
   "source": [
    "## 3: Splitting Up The Data"
   ]
  },
  {
   "cell_type": "code",
   "execution_count": 3,
   "metadata": {},
   "outputs": [
    {
     "name": "stdout",
     "output_type": "stream",
     "text": [
      "            Date      Close   day_5     day_30    day_365     std_5   std_365  \\\n",
      "16224 1951-06-19  22.020000  21.800  21.703333  19.447726  0.256223  1.790253   \n",
      "16223 1951-06-20  21.910000  21.900  21.683000  19.462411  0.213659  1.789307   \n",
      "16222 1951-06-21  21.780001  21.972  21.659667  19.476274  0.092574  1.788613   \n",
      "16221 1951-06-22  21.549999  21.960  21.631000  19.489562  0.115108  1.787659   \n",
      "16220 1951-06-25  21.290001  21.862  21.599000  19.502082  0.204132  1.786038   \n",
      "\n",
      "       rday_5_365  rstd_5_365  \n",
      "16224    1.120954    0.143121  \n",
      "16223    1.125246    0.119409  \n",
      "16222    1.128142    0.051758  \n",
      "16221    1.126757    0.064390  \n",
      "16220    1.121008    0.114293  \n",
      "          Date        Close        day_5       day_30      day_365      std_5  \\\n",
      "743 2012-12-24  1426.660034  1437.360010  1405.926001  1326.114028   7.622009   \n",
      "742 2012-12-26  1419.829956  1436.620019  1407.486336  1326.412494   8.589693   \n",
      "741 2012-12-27  1418.099976  1431.228003  1408.813000  1326.716494   9.058684   \n",
      "740 2012-12-28  1402.430054  1427.685986  1410.265332  1326.995836  10.208568   \n",
      "739 2012-12-31  1426.189941  1419.434009  1411.830001  1327.261562  10.701861   \n",
      "\n",
      "       std_365  rday_5_365  rstd_5_365  \n",
      "743  89.830647    1.083889    0.084849  \n",
      "742  89.983530    1.083087    0.095458  \n",
      "741  90.111444    1.078775    0.100528  \n",
      "740  90.236516    1.075878    0.113131  \n",
      "739  90.315637    1.069446    0.118494  \n",
      "          Date        Close        day_5       day_30      day_365      std_5  \\\n",
      "738 2013-01-02  1462.420044  1418.641992  1414.258667  1327.534055   9.820801   \n",
      "737 2013-01-03  1459.369995  1425.793994  1417.676668  1327.908247  22.261321   \n",
      "736 2013-01-04  1466.469971  1433.702002  1420.092668  1328.224877  26.274326   \n",
      "735 2013-01-07  1461.890015  1443.376001  1422.714665  1328.557617  27.945242   \n",
      "734 2013-01-08  1457.150024  1455.267993  1425.076664  1328.898603  16.453319   \n",
      "\n",
      "       std_365  rday_5_365  rstd_5_365  \n",
      "738  90.463948    1.068629    0.108560  \n",
      "737  90.738976    1.073714    0.245334  \n",
      "736  90.995857    1.079412    0.288742  \n",
      "735  91.279049    1.086423    0.306152  \n",
      "734  91.544368    1.095093    0.179731  \n"
     ]
    }
   ],
   "source": [
    "cols = [\"Date\", \"Close\", \"day_5\",\"day_30\",\"day_365\",\"std_5\",\"std_365\",\"rday_5_365\",\"rstd_5_365\"]\n",
    "ABT = sphist[cols]\n",
    "ABT = ABT[ABT[\"Date\"] > datetime(year=1951, month=1, day=2)]\n",
    "ABT = ABT.dropna(axis=0)\n",
    "print(ABT[ABT[\"Date\"] > datetime(year=1951, month=1, day=2)].head())\n",
    "\n",
    "train = ABT[ABT[\"Date\"] < datetime(year=2013, month=1, day=1)]\n",
    "test = ABT[ABT[\"Date\"] >= datetime(year=2013, month=1, day=1)]\n",
    "\n",
    "print(train.tail())\n",
    "print(test.head())"
   ]
  },
  {
   "cell_type": "markdown",
   "metadata": {},
   "source": [
    "## 4: Making Predictions"
   ]
  },
  {
   "cell_type": "code",
   "execution_count": 4,
   "metadata": {},
   "outputs": [
    {
     "name": "stdout",
     "output_type": "stream",
     "text": [
      "[[ 1419.35440744]\n",
      " [ 1425.50578007]\n",
      " [ 1433.37973633]\n",
      " [ 1443.36069543]\n",
      " [ 1457.05569669]]\n",
      "           Close\n",
      "738  1462.420044\n",
      "737  1459.369995\n",
      "736  1466.469971\n",
      "735  1461.890015\n",
      "734  1457.150024\n",
      "492.923034445\n",
      "22.2018700664\n"
     ]
    }
   ],
   "source": [
    "import sklearn\n",
    "from sklearn.linear_model import LinearRegression\n",
    "from sklearn.metrics import mean_squared_error\n",
    "\n",
    "features = [\"day_5\",\"day_30\",\"day_365\",\"std_5\",\"std_365\",\"rday_5_365\",\"rstd_5_365\"]\n",
    "target = [\"Close\"]\n",
    "\n",
    "lr = LinearRegression()\n",
    "lr.fit(train[features], train[target])\n",
    "predictions = lr.predict(test[features])\n",
    "print(predictions[0:5])\n",
    "print(test[target][0:5])\n",
    "\n",
    "mse = mean_squared_error(test[\"Close\"], predictions)\n",
    "rmse = mse ** (1/2)\n",
    "print(mse)\n",
    "print(rmse)"
   ]
  }
 ],
 "metadata": {
  "kernelspec": {
   "display_name": "Python [conda root]",
   "language": "python",
   "name": "conda-root-py"
  },
  "language_info": {
   "codemirror_mode": {
    "name": "ipython",
    "version": 3
   },
   "file_extension": ".py",
   "mimetype": "text/x-python",
   "name": "python",
   "nbconvert_exporter": "python",
   "pygments_lexer": "ipython3",
   "version": "3.5.3"
  }
 },
 "nbformat": 4,
 "nbformat_minor": 2
}
