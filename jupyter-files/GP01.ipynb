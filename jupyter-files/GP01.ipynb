{
 "cells": [
  {
   "cell_type": "markdown",
   "metadata": {},
   "source": [
    "# GP01: Birth Dates In The United States"
   ]
  },
  {
   "cell_type": "markdown",
   "metadata": {},
   "source": [
    "The raw data behind the story Some People Are [Too Superstitious To Have A Baby On Friday The 13th, which you can read here](https://fivethirtyeight.com/features/some-people-are-too-superstitious-to-have-a-baby-on-friday-the-13th/). \n",
    "\n",
    "We'll be working with the data set from the Centers for Disease Control and Prevention's National National Center for Health Statistics. \n",
    "\n",
    "The data set has the following structure:\n",
    "* year - Year\n",
    "* month - Month\n",
    "* date_of_month - Day number of the month\n",
    "* day_of_week - Day of week, where 1 is Monday and 7 is Sunday\n",
    "* births - Number of births"
   ]
  },
  {
   "cell_type": "code",
   "execution_count": 1,
   "metadata": {},
   "outputs": [
    {
     "name": "stdout",
     "output_type": "stream",
     "text": [
      "year,month,date_of_month,day_of_week,births\n",
      "1994,1,1,6,8096\n",
      "1994,1,2,7,7772\n",
      "1994,1,3,1,10142\n",
      "1994,1,4,2,11248\n",
      "1994,1,5,3,11053\n",
      "1994,1,6,4,11406\n",
      "1994,1,7,5,11251\n",
      "1994,1,8,6,8653\n",
      "1994,1,9,7,7910\n",
      "\n"
     ]
    }
   ],
   "source": [
    "f = open(\"../data/GP01/births.csv\", 'r')\n",
    "text = f.read()\n",
    "print(text[:193])"
   ]
  },
  {
   "cell_type": "code",
   "execution_count": 2,
   "metadata": {},
   "outputs": [
    {
     "data": {
      "text/plain": [
       "['year,month,date_of_month,day_of_week,births',\n",
       " '1994,1,1,6,8096',\n",
       " '1994,1,2,7,7772',\n",
       " '1994,1,3,1,10142',\n",
       " '1994,1,4,2,11248',\n",
       " '1994,1,5,3,11053',\n",
       " '1994,1,6,4,11406',\n",
       " '1994,1,7,5,11251',\n",
       " '1994,1,8,6,8653',\n",
       " '1994,1,9,7,7910']"
      ]
     },
     "execution_count": 2,
     "metadata": {},
     "output_type": "execute_result"
    }
   ],
   "source": [
    "lines_list = text.split(\"\\n\")\n",
    "lines_list[:10]"
   ]
  },
  {
   "cell_type": "code",
   "execution_count": 3,
   "metadata": {},
   "outputs": [
    {
     "data": {
      "text/plain": [
       "{'1': 5789166,\n",
       " '2': 6446196,\n",
       " '3': 6322855,\n",
       " '4': 6288429,\n",
       " '5': 6233657,\n",
       " '6': 4562111,\n",
       " '7': 4079723}"
      ]
     },
     "execution_count": 3,
     "metadata": {},
     "output_type": "execute_result"
    }
   ],
   "source": [
    "data_no_header = lines_list[1:len(lines_list)]\n",
    "days_counts = dict()\n",
    "\n",
    "for line in data_no_header:\n",
    "    split_line = line.split(\",\")\n",
    "    day_of_week = split_line[3]\n",
    "    num_births = int(split_line[4])\n",
    "\n",
    "    if day_of_week in days_counts:\n",
    "        days_counts[day_of_week] = days_counts[day_of_week] + num_births\n",
    "    else:\n",
    "        days_counts[day_of_week] = num_births\n",
    "\n",
    "days_counts"
   ]
  }
 ],
 "metadata": {
  "kernelspec": {
   "display_name": "Python [conda root]",
   "language": "python",
   "name": "conda-root-py"
  },
  "language_info": {
   "codemirror_mode": {
    "name": "ipython",
    "version": 3
   },
   "file_extension": ".py",
   "mimetype": "text/x-python",
   "name": "python",
   "nbconvert_exporter": "python",
   "pygments_lexer": "ipython3",
   "version": "3.5.3"
  }
 },
 "nbformat": 4,
 "nbformat_minor": 2
}
